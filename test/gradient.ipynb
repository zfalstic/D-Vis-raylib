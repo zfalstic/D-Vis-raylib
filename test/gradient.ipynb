{
 "cells": [
  {
   "cell_type": "code",
   "execution_count": 5,
   "metadata": {},
   "outputs": [],
   "source": [
    "import numpy as np"
   ]
  },
  {
   "cell_type": "code",
   "execution_count": 6,
   "metadata": {},
   "outputs": [],
   "source": [
    "def get_color_gradient(c1, c2, n):\n",
    "    assert n > 1\n",
    "    c1_rgb = np.array(c1) / 255\n",
    "    c2_rgb = np.array(c2) / 255\n",
    "    mix_pcts = [x / (n - 1) for x in range(n)]\n",
    "    rgb_colors = [((1 - mix) * c1_rgb + (mix * c2_rgb)) for mix in mix_pcts]\n",
    "    return [[int(round(x * 255)) for x in color] for color in rgb_colors]\n"
   ]
  },
  {
   "cell_type": "code",
   "execution_count": 7,
   "metadata": {},
   "outputs": [
    {
     "data": {
      "text/plain": [
       "[[255, 165, 29], [255, 210, 142], [255, 255, 255]]"
      ]
     },
     "execution_count": 7,
     "metadata": {},
     "output_type": "execute_result"
    }
   ],
   "source": [
    "get_color_gradient([255, 165, 29], [255, 255, 255], 3)"
   ]
  },
  {
   "cell_type": "code",
   "execution_count": 8,
   "metadata": {},
   "outputs": [
    {
     "data": {
      "text/plain": [
       "[[0, 255, 0],\n",
       " [255, 0, 255],\n",
       " [0, 128, 255],\n",
       " [255, 128, 0],\n",
       " [128, 191, 128],\n",
       " [110, 35, 148],\n",
       " [194, 121, 248],\n",
       " [4, 125, 33],\n",
       " [223, 3, 12],\n",
       " [0, 255, 255]]"
      ]
     },
     "execution_count": 8,
     "metadata": {},
     "output_type": "execute_result"
    }
   ],
   "source": [
    "from distinctipy import get_colors\n",
    "\n",
    "[[int(round(i * 255)) for i in x] for x in get_colors(10)]"
   ]
  }
 ],
 "metadata": {
  "kernelspec": {
   "display_name": ".venv",
   "language": "python",
   "name": "python3"
  },
  "language_info": {
   "codemirror_mode": {
    "name": "ipython",
    "version": 3
   },
   "file_extension": ".py",
   "mimetype": "text/x-python",
   "name": "python",
   "nbconvert_exporter": "python",
   "pygments_lexer": "ipython3",
   "version": "3.12.2"
  }
 },
 "nbformat": 4,
 "nbformat_minor": 2
}
